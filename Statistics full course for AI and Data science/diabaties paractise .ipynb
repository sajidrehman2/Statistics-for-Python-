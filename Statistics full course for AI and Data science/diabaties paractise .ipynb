{
 "cells": [
  {
   "cell_type": "code",
   "execution_count": 46,
   "id": "6ff8514a",
   "metadata": {},
   "outputs": [],
   "source": [
    "import pandas as pd"
   ]
  },
  {
   "cell_type": "code",
   "execution_count": 47,
   "id": "3144af95",
   "metadata": {},
   "outputs": [],
   "source": [
    "data=pd.read_csv('diabetes_dataset.csv')"
   ]
  },
  {
   "cell_type": "code",
   "execution_count": 48,
   "id": "625d792b",
   "metadata": {},
   "outputs": [
    {
     "data": {
      "text/html": [
       "<div>\n",
       "<style scoped>\n",
       "    .dataframe tbody tr th:only-of-type {\n",
       "        vertical-align: middle;\n",
       "    }\n",
       "\n",
       "    .dataframe tbody tr th {\n",
       "        vertical-align: top;\n",
       "    }\n",
       "\n",
       "    .dataframe thead th {\n",
       "        text-align: right;\n",
       "    }\n",
       "</style>\n",
       "<table border=\"1\" class=\"dataframe\">\n",
       "  <thead>\n",
       "    <tr style=\"text-align: right;\">\n",
       "      <th></th>\n",
       "      <th>year</th>\n",
       "      <th>gender</th>\n",
       "      <th>age</th>\n",
       "      <th>location</th>\n",
       "      <th>race:AfricanAmerican</th>\n",
       "      <th>race:Asian</th>\n",
       "      <th>race:Caucasian</th>\n",
       "      <th>race:Hispanic</th>\n",
       "      <th>race:Other</th>\n",
       "      <th>hypertension</th>\n",
       "      <th>heart_disease</th>\n",
       "      <th>smoking_history</th>\n",
       "      <th>bmi</th>\n",
       "      <th>hbA1c_level</th>\n",
       "      <th>blood_glucose_level</th>\n",
       "      <th>diabetes</th>\n",
       "    </tr>\n",
       "  </thead>\n",
       "  <tbody>\n",
       "    <tr>\n",
       "      <th>0</th>\n",
       "      <td>2020</td>\n",
       "      <td>Female</td>\n",
       "      <td>32.0</td>\n",
       "      <td>Alabama</td>\n",
       "      <td>0</td>\n",
       "      <td>0</td>\n",
       "      <td>0</td>\n",
       "      <td>0</td>\n",
       "      <td>1</td>\n",
       "      <td>0</td>\n",
       "      <td>0</td>\n",
       "      <td>never</td>\n",
       "      <td>27.32</td>\n",
       "      <td>5.0</td>\n",
       "      <td>100</td>\n",
       "      <td>0</td>\n",
       "    </tr>\n",
       "    <tr>\n",
       "      <th>1</th>\n",
       "      <td>2015</td>\n",
       "      <td>Female</td>\n",
       "      <td>29.0</td>\n",
       "      <td>Alabama</td>\n",
       "      <td>0</td>\n",
       "      <td>1</td>\n",
       "      <td>0</td>\n",
       "      <td>0</td>\n",
       "      <td>0</td>\n",
       "      <td>0</td>\n",
       "      <td>0</td>\n",
       "      <td>never</td>\n",
       "      <td>19.95</td>\n",
       "      <td>5.0</td>\n",
       "      <td>90</td>\n",
       "      <td>0</td>\n",
       "    </tr>\n",
       "    <tr>\n",
       "      <th>2</th>\n",
       "      <td>2015</td>\n",
       "      <td>Male</td>\n",
       "      <td>18.0</td>\n",
       "      <td>Alabama</td>\n",
       "      <td>0</td>\n",
       "      <td>0</td>\n",
       "      <td>0</td>\n",
       "      <td>0</td>\n",
       "      <td>1</td>\n",
       "      <td>0</td>\n",
       "      <td>0</td>\n",
       "      <td>never</td>\n",
       "      <td>23.76</td>\n",
       "      <td>4.8</td>\n",
       "      <td>160</td>\n",
       "      <td>0</td>\n",
       "    </tr>\n",
       "    <tr>\n",
       "      <th>3</th>\n",
       "      <td>2015</td>\n",
       "      <td>Male</td>\n",
       "      <td>41.0</td>\n",
       "      <td>Alabama</td>\n",
       "      <td>0</td>\n",
       "      <td>0</td>\n",
       "      <td>1</td>\n",
       "      <td>0</td>\n",
       "      <td>0</td>\n",
       "      <td>0</td>\n",
       "      <td>0</td>\n",
       "      <td>never</td>\n",
       "      <td>27.32</td>\n",
       "      <td>4.0</td>\n",
       "      <td>159</td>\n",
       "      <td>0</td>\n",
       "    </tr>\n",
       "    <tr>\n",
       "      <th>4</th>\n",
       "      <td>2016</td>\n",
       "      <td>Female</td>\n",
       "      <td>52.0</td>\n",
       "      <td>Alabama</td>\n",
       "      <td>1</td>\n",
       "      <td>0</td>\n",
       "      <td>0</td>\n",
       "      <td>0</td>\n",
       "      <td>0</td>\n",
       "      <td>0</td>\n",
       "      <td>0</td>\n",
       "      <td>never</td>\n",
       "      <td>23.75</td>\n",
       "      <td>6.5</td>\n",
       "      <td>90</td>\n",
       "      <td>0</td>\n",
       "    </tr>\n",
       "  </tbody>\n",
       "</table>\n",
       "</div>"
      ],
      "text/plain": [
       "   year  gender   age location  race:AfricanAmerican  race:Asian  \\\n",
       "0  2020  Female  32.0  Alabama                     0           0   \n",
       "1  2015  Female  29.0  Alabama                     0           1   \n",
       "2  2015    Male  18.0  Alabama                     0           0   \n",
       "3  2015    Male  41.0  Alabama                     0           0   \n",
       "4  2016  Female  52.0  Alabama                     1           0   \n",
       "\n",
       "   race:Caucasian  race:Hispanic  race:Other  hypertension  heart_disease  \\\n",
       "0               0              0           1             0              0   \n",
       "1               0              0           0             0              0   \n",
       "2               0              0           1             0              0   \n",
       "3               1              0           0             0              0   \n",
       "4               0              0           0             0              0   \n",
       "\n",
       "  smoking_history    bmi  hbA1c_level  blood_glucose_level  diabetes  \n",
       "0           never  27.32          5.0                  100         0  \n",
       "1           never  19.95          5.0                   90         0  \n",
       "2           never  23.76          4.8                  160         0  \n",
       "3           never  27.32          4.0                  159         0  \n",
       "4           never  23.75          6.5                   90         0  "
      ]
     },
     "execution_count": 48,
     "metadata": {},
     "output_type": "execute_result"
    }
   ],
   "source": [
    "data.head()"
   ]
  },
  {
   "cell_type": "code",
   "execution_count": 49,
   "id": "4e222832",
   "metadata": {},
   "outputs": [
    {
     "data": {
      "text/plain": [
       "Female    58552\n",
       "Male      41430\n",
       "Other        18\n",
       "Name: gender, dtype: int64"
      ]
     },
     "execution_count": 49,
     "metadata": {},
     "output_type": "execute_result"
    }
   ],
   "source": [
    "data['gender'].value_counts()"
   ]
  },
  {
   "cell_type": "code",
   "execution_count": 50,
   "id": "5f37e4a2",
   "metadata": {},
   "outputs": [],
   "source": [
    "import matplotlib.pyplot as plt"
   ]
  },
  {
   "cell_type": "code",
   "execution_count": 51,
   "id": "2a543697",
   "metadata": {},
   "outputs": [
    {
     "data": {
      "text/plain": [
       "<BarContainer object of 3 artists>"
      ]
     },
     "execution_count": 51,
     "metadata": {},
     "output_type": "execute_result"
    },
    {
     "data": {
      "image/png": "[encoded data removed]",
      "text/plain": [
       "<Figure size 640x480 with 1 Axes>"
      ]
     },
     "metadata": {},
     "output_type": "display_data"
    }
   ],
   "source": [
    "plt.bar(x=data['gender'].value_counts().index , height=data['gender'].value_counts().values)"
   ]
  },
  {
   "cell_type": "code",
   "execution_count": 52,
   "id": "2fd3ddec",
   "metadata": {},
   "outputs": [
    {
     "data": {
      "text/plain": [
       "([<matplotlib.patches.Wedge at 0x21d5ece6f90>,\n",
       "  <matplotlib.patches.Wedge at 0x21d5dc99f10>,\n",
       "  <matplotlib.patches.Wedge at 0x21d5dc98490>],\n",
       " [Text(-0.2919933647221339, 1.060537540569992, '58552'),\n",
       "  Text(0.2913936774432974, -1.0607024675874341, '41430'),\n",
       "  Text(1.0999998242165692, -0.0006218709811560653, '18')],\n",
       " [Text(-0.15926910803025485, 0.5784750221290864, '58.55'),\n",
       "  Text(0.1589420058781622, -0.5785649823204185, '41.43'),\n",
       "  Text(0.5999999041181285, -0.0003392023533578538, '0.02')])"
      ]
     },
     "execution_count": 52,
     "metadata": {},
     "output_type": "execute_result"
    },
    {
     "data": {
      "image/png": "[encoded data removed]",
      "text/plain": [
       "<Figure size 640x480 with 1 Axes>"
      ]
     },
     "metadata": {},
     "output_type": "display_data"
    }
   ],
   "source": [
    "plt.pie(data['gender'].value_counts(),labels=data['gender'].value_counts(),autopct='%.2f')"
   ]
  },
  {
   "cell_type": "code",
   "execution_count": 53,
   "id": "75d3c8d6",
   "metadata": {},
   "outputs": [],
   "source": [
    "group=data.groupby([\"gender\",\"diabetes\"])['gender'].count()"
   ]
  },
  {
   "cell_type": "code",
   "execution_count": 54,
   "id": "60d5a29a",
   "metadata": {},
   "outputs": [
    {
     "data": {
      "text/plain": [
       "([<matplotlib.patches.Wedge at 0x21d5ecefd90>,\n",
       "  <matplotlib.patches.Wedge at 0x21d5eceee90>,\n",
       "  <matplotlib.patches.Wedge at 0x21d5ecefe50>,\n",
       "  <matplotlib.patches.Wedge at 0x21d5eceddd0>,\n",
       "  <matplotlib.patches.Wedge at 0x21d5dbdfdd0>],\n",
       " [Text(-0.14098594544356355, 1.0909275700922518, ''),\n",
       "  Text(-1.0143661040041407, -0.42551311031208094, ''),\n",
       "  Text(0.15482036910742725, -1.0890503447083795, ''),\n",
       "  Text(1.0909983165104473, -0.14043743579035475, ''),\n",
       "  Text(1.099999824187456, -0.0006219224758637048, '')],\n",
       " [Text(-0.07690142478739828, 0.5950514018685009, '54.09'),\n",
       "  Text(-0.5532906021840767, -0.23209806017022594, '4.46'),\n",
       "  Text(0.08444747405859666, -0.5940274607500251, '37.39'),\n",
       "  Text(0.5950899908238803, -0.07660223770382986, '4.04'),\n",
       "  Text(0.5999999041022487, -0.0003392304413802026, '0.02')])"
      ]
     },
     "execution_count": 54,
     "metadata": {},
     "output_type": "execute_result"
    },
    {
     "data": {
      "image/png": "[encoded data removed]",
      "text/plain": [
       "<Figure size 640x480 with 1 Axes>"
      ]
     },
     "metadata": {},
     "output_type": "display_data"
    }
   ],
   "source": [
    "plt.pie(x=group.values,autopct=\"%.2f\")"
   ]
  },
  {
   "cell_type": "code",
   "execution_count": 55,
   "id": "7fcacb82",
   "metadata": {},
   "outputs": [
    {
     "data": {
      "text/plain": [
       "array(['never', 'not current', 'current', 'No Info', 'ever', 'former'],\n",
       "      dtype=object)"
      ]
     },
     "execution_count": 55,
     "metadata": {},
     "output_type": "execute_result"
    }
   ],
   "source": [
    "data['smoking_history'].unique()"
   ]
  },
  {
   "cell_type": "code",
   "execution_count": 56,
   "id": "6416a213",
   "metadata": {},
   "outputs": [
    {
     "ename": "SyntaxError",
     "evalue": "invalid syntax (1557885337.py, line 1)",
     "output_type": "error",
     "traceback": [
      "\u001b[1;36m  Cell \u001b[1;32mIn[56], line 1\u001b[1;36m\u001b[0m\n\u001b[1;33m    data(lambda 'never' if smoking_history=='No info'  elif smoking_history=='former')\u001b[0m\n\u001b[1;37m                ^\u001b[0m\n\u001b[1;31mSyntaxError\u001b[0m\u001b[1;31m:\u001b[0m invalid syntax\n"
     ]
    }
   ],
   "source": [
    "data(lambda 'never' if smoking_history=='No info'  elif smoking_history=='former')"
   ]
  },
  {
   "cell_type": "code",
   "execution_count": 57,
   "id": "bd73bedf",
   "metadata": {},
   "outputs": [
    {
     "data": {
      "text/plain": [
       "array(['never', 'not current', 'current', 'No Info', 'ever', 'former'],\n",
       "      dtype=object)"
      ]
     },
     "execution_count": 57,
     "metadata": {},
     "output_type": "execute_result"
    }
   ],
   "source": [
    "data['smoking_history'].unique()"
   ]
  },
  {
   "cell_type": "code",
   "execution_count": 59,
   "id": "ada62ce5",
   "metadata": {},
   "outputs": [],
   "source": [
    "data['smoking_history']=data['smoking_history'].replace({'former':'ever','No info':'never','current':'never'})"
   ]
  },
  {
   "cell_type": "code",
   "execution_count": 60,
   "id": "49dfe76a",
   "metadata": {},
   "outputs": [
    {
     "data": {
      "text/plain": [
       "array(['never', 'not current', 'No Info', 'ever'], dtype=object)"
      ]
     },
     "execution_count": 60,
     "metadata": {},
     "output_type": "execute_result"
    }
   ],
   "source": [
    "data['smoking_history'].unique()"
   ]
  },
  {
   "cell_type": "code",
   "execution_count": 73,
   "id": "f307b796",
   "metadata": {},
   "outputs": [
    {
     "data": {
      "text/plain": [
       "smoking_history  diabetes  gender  diabetes\n",
       "No Info          0         Female  0           18946\n",
       "                           Male    0           15410\n",
       "                           Other   0               6\n",
       "                 1         Female  1             754\n",
       "                           Male    1             700\n",
       "ever             0         Female  0            6152\n",
       "                           Male    0            5141\n",
       "                           Other   0               1\n",
       "                 1         Female  1             860\n",
       "                           Male    1            1202\n",
       "never            0         Female  0           25474\n",
       "                           Male    0           14610\n",
       "                           Other   0               3\n",
       "                 1         Female  1            2453\n",
       "                           Male    1            1841\n",
       "not current      0         Female  0            3519\n",
       "                           Male    0            2230\n",
       "                           Other   0               8\n",
       "                 1         Female  1             394\n",
       "                           Male    1             296\n",
       "Name: diabetes, dtype: int64"
      ]
     },
     "execution_count": 73,
     "metadata": {},
     "output_type": "execute_result"
    }
   ],
   "source": [
    "data.groupby(['smoking_history','diabetes','gender'])['diabetes'].value_counts()\n"
   ]
  },
  {
   "cell_type": "code",
   "execution_count": 74,
   "id": "c9bca504",
   "metadata": {},
   "outputs": [
    {
     "data": {
      "text/plain": [
       "gender\n",
       "Female    42.463291\n",
       "Male      41.075139\n",
       "Other     29.555556\n",
       "Name: age, dtype: float64"
      ]
     },
     "execution_count": 74,
     "metadata": {},
     "output_type": "execute_result"
    }
   ],
   "source": [
    "data.groupby(['gender'])['age'].mean()"
   ]
  },
  {
   "cell_type": "code",
   "execution_count": 77,
   "id": "f7189a30",
   "metadata": {},
   "outputs": [
    {
     "data": {
      "text/plain": [
       "gender\n",
       "Female    60.993499\n",
       "Male      60.894776\n",
       "Name: age, dtype: float64"
      ]
     },
     "execution_count": 77,
     "metadata": {},
     "output_type": "execute_result"
    }
   ],
   "source": [
    "data[data.diabetes==1].groupby(\"gender\")['age'].mean()"
   ]
  },
  {
   "cell_type": "code",
   "execution_count": 78,
   "id": "0d5128d6",
   "metadata": {},
   "outputs": [
    {
     "data": {
      "text/plain": [
       "gender\n",
       "Female    40.935065\n",
       "Male      38.934209\n",
       "Other     29.555556\n",
       "Name: age, dtype: float64"
      ]
     },
     "execution_count": 78,
     "metadata": {},
     "output_type": "execute_result"
    }
   ],
   "source": [
    "data[data.diabetes==0].groupby(\"gender\")['age'].mean()"
   ]
  },
  {
   "cell_type": "code",
   "execution_count": 80,
   "id": "c69b3235",
   "metadata": {},
   "outputs": [
    {
     "data": {
      "text/plain": [
       "gender\n",
       "Female    27.022526\n",
       "Male      26.691107\n",
       "Other     27.379444\n",
       "Name: bmi, dtype: float64"
      ]
     },
     "execution_count": 80,
     "metadata": {},
     "output_type": "execute_result"
    }
   ],
   "source": [
    "data[data.diabetes==0].groupby(\"gender\")['bmi'].mean()"
   ]
  },
  {
   "cell_type": "code",
   "execution_count": 81,
   "id": "28f29464",
   "metadata": {},
   "outputs": [
    {
     "data": {
      "text/plain": [
       "array([27.32, 19.95, 23.76, ..., 59.91, 50.8 , 10.34])"
      ]
     },
     "execution_count": 81,
     "metadata": {},
     "output_type": "execute_result"
    }
   ],
   "source": [
    "data['bmi'].unique()"
   ]
  },
  {
   "cell_type": "code",
   "execution_count": 102,
   "id": "a98ed129",
   "metadata": {},
   "outputs": [
    {
     "data": {
      "text/plain": [
       "not good bmi    62845\n",
       "good bmi        37155\n",
       "Name: category, dtype: int64"
      ]
     },
     "execution_count": 102,
     "metadata": {},
     "output_type": "execute_result"
    }
   ],
   "source": [
    "data['category'] = ['good bmi' if 27 <= bmi <= 30 else 'not good bmi' for bmi in data['bmi']]\n",
    "data['category'].value_counts()"
   ]
  },
  {
   "cell_type": "code",
   "execution_count": 103,
   "id": "5d60e8b3",
   "metadata": {},
   "outputs": [
    {
     "data": {
      "text/plain": [
       "gender  category    \n",
       "Female  not good bmi    35016\n",
       "        good bmi        19075\n",
       "Male    not good bmi    22023\n",
       "        good bmi        15368\n",
       "Other   not good bmi       11\n",
       "        good bmi            7\n",
       "Name: category, dtype: int64"
      ]
     },
     "execution_count": 103,
     "metadata": {},
     "output_type": "execute_result"
    }
   ],
   "source": [
    "data[data.diabetes==0].groupby(\"gender\")['category'].value_counts()"
   ]
  },
  {
   "cell_type": "code",
   "execution_count": null,
   "id": "a238a04f",
   "metadata": {},
   "outputs": [],
   "source": []
  }
 ],
 "metadata": {
  "kernelspec": {
   "display_name": "Python 3 (ipykernel)",
   "language": "python",
   "name": "python3"
  },
  "language_info": {
   "codemirror_mode": {
    "name": "ipython",
    "version": 3
   },
   "file_extension": ".py",
   "mimetype": "text/x-python",
   "name": "python",
   "nbconvert_exporter": "python",
   "pygments_lexer": "ipython3",
   "version": "3.11.4"
  }
 },
 "nbformat": 4,
 "nbformat_minor": 5
}
